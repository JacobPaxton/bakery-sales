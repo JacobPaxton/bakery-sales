{
 "cells": [
  {
   "cell_type": "markdown",
   "id": "feeb608a",
   "metadata": {},
   "source": [
    "# Overview\n",
    "This project analyzed a Korean bakery's sales data, ran statistical tests for locality and product differences, and performed time-series analysis and projection for total sales revenue.\n",
    "\n",
    "## Link to data\n",
    "https://www.kaggle.com/hosubjeong/bakery-sales\n",
    "\n",
    "## Steps\n",
    "1. Wrangled data\n",
    "2. Plotted distributions of total sale amounts, products, localities\n",
    "3. Split data for time-series modeling\n",
    "4. Explored bivariates\n",
    "5. Performed statistical testing\n",
    "6. Built models for in-sample time series data\n",
    "7. Compared model prediction performance for out-of-sample (future) data\n",
    "8. Selected best model\n",
    "9. Tested model performance against final out-of-sample data\n",
    "\n",
    "# Steps in Detail"
   ]
  },
  {
   "cell_type": "code",
   "execution_count": 2,
   "id": "1ce28a9c",
   "metadata": {},
   "outputs": [],
   "source": [
    "import warnings\n",
    "warnings.filterwarnings('ignore')\n",
    "\n",
    "import pandas as pd\n",
    "import seaborn as sns\n",
    "import matplotlib.pyplot as plt\n",
    "\n",
    "from scipy import stats\n",
    "\n",
    "import statsmodels.api as sm\n",
    "import statsmodels.tsa.api as sm\n",
    "\n",
    "from sklearn.metrics import mean_squared_error\n",
    "from math import sqrt"
   ]
  },
  {
   "cell_type": "markdown",
   "id": "f3b1d2f6",
   "metadata": {},
   "source": [
    "## #1. Wrangled data\n",
    "Bottom Line Up Front: Acquired bakery sales data from the Kaggle link. Chose time-series analysis as approach. Dropped all nulls from date and total revenue columns. Assigned date column as index."
   ]
  },
  {
   "cell_type": "code",
   "execution_count": null,
   "id": "bbcdce9a",
   "metadata": {},
   "outputs": [],
   "source": []
  },
  {
   "cell_type": "markdown",
   "id": "fae33e6d",
   "metadata": {},
   "source": [
    "## #2. Plotted distributions"
   ]
  },
  {
   "cell_type": "code",
   "execution_count": null,
   "id": "6eb786c7",
   "metadata": {},
   "outputs": [],
   "source": []
  }
 ],
 "metadata": {
  "kernelspec": {
   "display_name": "Python 3 (ipykernel)",
   "language": "python",
   "name": "python3"
  },
  "language_info": {
   "codemirror_mode": {
    "name": "ipython",
    "version": 3
   },
   "file_extension": ".py",
   "mimetype": "text/x-python",
   "name": "python",
   "nbconvert_exporter": "python",
   "pygments_lexer": "ipython3",
   "version": "3.8.8"
  }
 },
 "nbformat": 4,
 "nbformat_minor": 5
}
